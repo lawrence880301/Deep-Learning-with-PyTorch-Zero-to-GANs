{
  "cells": [
    {
      "cell_type": "markdown",
      "metadata": {},
      "source": [
        "## Title Here\n",
        "An short introduction about PyTorch and about the chosen functions.\n",
        "\n",
        "*   transpose(input, dim0, dim1)\n",
        "*   permute(*dims)\n",
        "*   poisson(input *, generator=None)\n",
        "*   mul(input, other, *, out=None)\n",
        "*   inverse(input, *, out=None)\n",
        "\n",
        "Before we begin, let's install and import PyTorch"
      ]
    },
    {
      "cell_type": "code",
      "metadata": {
        "id": "7DFfDQMJkj29"
      },
      "source": [
        "# Import torch and other required modules\n",
        "import torch"
      ],
      "execution_count": 2,
      "outputs": []
    },
    {
      "cell_type": "markdown",
      "metadata": {
        "id": "0--fA5Takj29"
      },
      "source": [
        "## Function 1 - transpose(input, dim0, dim1)\n",
        "Returns a tensor that is a transposed version of input. The given dimensions dim0 and dim1 are swapped.\n",
        "\n",
        "The resulting out tensor shares it’s underlying storage with the input tensor, so changing the content of one would change the content of the other."
      ]
    },
    {
      "cell_type": "markdown",
      "metadata": {
        "id": "XUkMFkw2o4Bg"
      },
      "source": [
        "### Parameter\r\n",
        "\r\n",
        "\r\n",
        "*  input (Tensor) – the input tensor.\r\n",
        "\r\n",
        "*  dim0 (int) – the first dimension to be transposed\r\n",
        "\r\n",
        "*  dim1 (int) – the second dimension to be transposed\r\n",
        "\r\n",
        "\r\n",
        "\r\n"
      ]
    },
    {
      "cell_type": "code",
      "metadata": {
        "colab": {
          "base_uri": "https://localhost:8080/"
        },
        "id": "5zqIHlWFkj2_",
        "outputId": "f5716256-af03-452b-d65a-6de1dc4c7f95"
      },
      "source": [
        "x = torch.rand(2,3)\n",
        "x"
      ],
      "execution_count": 26,
      "outputs": [
        {
          "output_type": "execute_result",
          "data": {
            "text/plain": [
              "tensor([[0.9953, 0.5487, 0.3824],\n",
              "        [0.4103, 0.1943, 0.2185]])"
            ]
          },
          "metadata": {
            "tags": []
          },
          "execution_count": 26
        }
      ]
    },
    {
      "cell_type": "code",
      "metadata": {
        "colab": {
          "base_uri": "https://localhost:8080/"
        },
        "id": "4_UJC_OKkj3A",
        "outputId": "d6e73220-a882-4bd8-b358-430e8ae8957b"
      },
      "source": [
        "x.transpose(0, 1)"
      ],
      "execution_count": 27,
      "outputs": [
        {
          "output_type": "execute_result",
          "data": {
            "text/plain": [
              "tensor([[0.9953, 0.4103],\n",
              "        [0.5487, 0.1943],\n",
              "        [0.3824, 0.2185]])"
            ]
          },
          "metadata": {
            "tags": []
          },
          "execution_count": 27
        }
      ]
    },
    {
      "cell_type": "markdown",
      "metadata": {
        "id": "suKMXYk6kj3B"
      },
      "source": [
        "Returns a tensor that is a transposed version of input. The dim0 and dim1 of x are swapped after we use this function."
      ]
    },
    {
      "cell_type": "code",
      "metadata": {
        "colab": {
          "base_uri": "https://localhost:8080/"
        },
        "id": "luUzlvZgtMsW",
        "outputId": "57f17170-ff9c-4578-a82d-e16a9fb9f781"
      },
      "source": [
        "y = torch.rand(2,3,4)\r\n",
        "y"
      ],
      "execution_count": 12,
      "outputs": [
        {
          "output_type": "execute_result",
          "data": {
            "text/plain": [
              "tensor([[[0.8931, 0.4512, 0.1932, 0.2029],\n",
              "         [0.5693, 0.4101, 0.2117, 0.8268],\n",
              "         [0.3268, 0.7633, 0.9164, 0.2549]],\n",
              "\n",
              "        [[0.2594, 0.1393, 0.7299, 0.2018],\n",
              "         [0.7563, 0.0903, 0.6125, 0.2235],\n",
              "         [0.6437, 0.4035, 0.9248, 0.9582]]])"
            ]
          },
          "metadata": {
            "tags": []
          },
          "execution_count": 12
        }
      ]
    },
    {
      "cell_type": "code",
      "metadata": {
        "colab": {
          "base_uri": "https://localhost:8080/",
          "height": 222
        },
        "id": "_3ze0qsRkj3C",
        "outputId": "a3ff660c-9649-46ba-c85e-5b2dc20abc67"
      },
      "source": [
        "y.transpose(1, 0, 2)"
      ],
      "execution_count": 17,
      "outputs": [
        {
          "output_type": "error",
          "ename": "TypeError",
          "evalue": "ignored",
          "traceback": [
            "\u001b[0;31m---------------------------------------------------------------------------\u001b[0m",
            "\u001b[0;31mTypeError\u001b[0m                                 Traceback (most recent call last)",
            "\u001b[0;32m<ipython-input-17-56d5bdc51c3c>\u001b[0m in \u001b[0;36m<module>\u001b[0;34m()\u001b[0m\n\u001b[0;32m----> 1\u001b[0;31m \u001b[0my\u001b[0m\u001b[0;34m.\u001b[0m\u001b[0mtranspose\u001b[0m\u001b[0;34m(\u001b[0m\u001b[0;36m1\u001b[0m\u001b[0;34m,\u001b[0m \u001b[0;36m0\u001b[0m\u001b[0;34m,\u001b[0m \u001b[0;36m2\u001b[0m\u001b[0;34m)\u001b[0m\u001b[0;34m\u001b[0m\u001b[0;34m\u001b[0m\u001b[0m\n\u001b[0m",
            "\u001b[0;31mTypeError\u001b[0m: transpose() received an invalid combination of arguments - got (int, int, int), but expected one of:\n * (name dim0, name dim1)\n * (int dim0, int dim1)\n"
          ]
        }
      ]
    },
    {
      "cell_type": "markdown",
      "metadata": {
        "id": "57AHTGSHkj3D"
      },
      "source": [
        "transpose() received an invalid combination of arguments \r\n",
        "\r\n",
        "Since transpose() function can only tanspose the dimension of 2-d array, we should use permute() function if our array dimenison is greater than 2."
      ]
    },
    {
      "cell_type": "markdown",
      "metadata": {
        "id": "nuJ2V2hkkj3F"
      },
      "source": [
        "## Function 2 - permute(*dims)\n",
        "\n",
        "Returns a view of the original tensor with its dimensions permuted."
      ]
    },
    {
      "cell_type": "markdown",
      "metadata": {
        "id": "pvABf4boxatk"
      },
      "source": [
        "### Parameters\r\n",
        "\r   \n",
        "*dims (int...) – The desired ordering of dimensions"
      ]
    },
    {
      "cell_type": "code",
      "metadata": {
        "colab": {
          "base_uri": "https://localhost:8080/"
        },
        "id": "FIkp6WXnkj3F",
        "outputId": "741b2854-4fc5-41b1-9029-adc52053c7c5"
      },
      "source": [
        "x = torch.randn(2, 3, 5)\r\n",
        "x.size()"
      ],
      "execution_count": 35,
      "outputs": [
        {
          "output_type": "execute_result",
          "data": {
            "text/plain": [
              "torch.Size([2, 3, 5])"
            ]
          },
          "metadata": {
            "tags": []
          },
          "execution_count": 35
        }
      ]
    },
    {
      "cell_type": "code",
      "metadata": {
        "colab": {
          "base_uri": "https://localhost:8080/"
        },
        "id": "7styBvvPkj3G",
        "outputId": "96c19d94-6b87-4c1e-e840-83ecf161843b"
      },
      "source": [
        "x.permute(2, 0, 1).size()"
      ],
      "execution_count": 36,
      "outputs": [
        {
          "output_type": "execute_result",
          "data": {
            "text/plain": [
              "torch.Size([5, 2, 3])"
            ]
          },
          "metadata": {
            "tags": []
          },
          "execution_count": 36
        }
      ]
    },
    {
      "cell_type": "code",
      "metadata": {
        "colab": {
          "base_uri": "https://localhost:8080/"
        },
        "id": "JZZitkPOzNFY",
        "outputId": "f8fabf53-6440-49c8-ad31-8b3df09ac4ba"
      },
      "source": [
        "x.permute(1, 0, 2).size()"
      ],
      "execution_count": 37,
      "outputs": [
        {
          "output_type": "execute_result",
          "data": {
            "text/plain": [
              "torch.Size([3, 2, 5])"
            ]
          },
          "metadata": {
            "tags": []
          },
          "execution_count": 37
        }
      ]
    },
    {
      "cell_type": "markdown",
      "metadata": {
        "id": "3YfMF8C9kj3I"
      },
      "source": [
        "The difference between transpose and permute are two:\r\n",
        "\r\n",
        "\r\n",
        "1.   We can use permute() to transpose the dimension for array which has more than two dimension.\r\n",
        "2.   Unlike the parameter dim0 and dim1 in trnaspose(), the parameter in permute() will specify the dimension of array to be transposed.\r\n",
        "\r\n"
      ]
    },
    {
      "cell_type": "code",
      "metadata": {
        "colab": {
          "base_uri": "https://localhost:8080/",
          "height": 169
        },
        "id": "ntfucushkj3I",
        "outputId": "ceb53500-d8f9-4483-9d3d-28aa2dd0c5d3"
      },
      "source": [
        "x.permute(1, 0).size()"
      ],
      "execution_count": 38,
      "outputs": [
        {
          "output_type": "error",
          "ename": "RuntimeError",
          "evalue": "ignored",
          "traceback": [
            "\u001b[0;31m---------------------------------------------------------------------------\u001b[0m",
            "\u001b[0;31mRuntimeError\u001b[0m                              Traceback (most recent call last)",
            "\u001b[0;32m<ipython-input-38-8b32fd240fe1>\u001b[0m in \u001b[0;36m<module>\u001b[0;34m()\u001b[0m\n\u001b[0;32m----> 1\u001b[0;31m \u001b[0mx\u001b[0m\u001b[0;34m.\u001b[0m\u001b[0mpermute\u001b[0m\u001b[0;34m(\u001b[0m\u001b[0;36m1\u001b[0m\u001b[0;34m,\u001b[0m \u001b[0;36m0\u001b[0m\u001b[0;34m)\u001b[0m\u001b[0;34m.\u001b[0m\u001b[0msize\u001b[0m\u001b[0;34m(\u001b[0m\u001b[0;34m)\u001b[0m\u001b[0;34m\u001b[0m\u001b[0;34m\u001b[0m\u001b[0m\n\u001b[0m",
            "\u001b[0;31mRuntimeError\u001b[0m: number of dims don't match in permute"
          ]
        }
      ]
    },
    {
      "cell_type": "markdown",
      "metadata": {
        "id": "EGxAFasKkj3I"
      },
      "source": [
        "Since the numbers of parameter will specify the dimension to be transposed, we need to list all desired ordering of dimensions."
      ]
    },
    {
      "cell_type": "markdown",
      "metadata": {
        "id": "J-xq_dGKkj3I"
      },
      "source": [
        "Compared with transpose(), permute() offer a more flexible and powerful way to deal with dimension of array. However, when the dimension of the array is smaller than 2, we can us transpose() since it is more faster and easier to use."
      ]
    },
    {
      "cell_type": "markdown",
      "metadata": {
        "id": "pViBgAPUkj3K"
      },
      "source": [
        "## Function 3 - poisson(input *, generator=None)\n",
        "\n",
        "Returns a tensor of the same size as input with each element sampled from a Poisson distribution with rate parameter given by the corresponding element in input"
      ]
    },
    {
      "cell_type": "markdown",
      "metadata": {
        "id": "uGNrLZIN82ZU"
      },
      "source": [
        "### Parameter\r\n",
        "*  input (Tensor) – the input tensor containing the rates of the Poisson distribution\r\n",
        "\r\n",
        "Keyword Arguments\r\n",
        "*  generator (torch.Generator, optional) – a pseudorandom number generator for sampling"
      ]
    },
    {
      "cell_type": "code",
      "metadata": {
        "colab": {
          "base_uri": "https://localhost:8080/"
        },
        "id": "HG92OCThkj3K",
        "outputId": "0850cf6f-e85a-4341-caf6-1e90cd50f6b1"
      },
      "source": [
        "rates = torch.rand(4, 4) * 7  \r\n",
        "rates"
      ],
      "execution_count": 43,
      "outputs": [
        {
          "output_type": "execute_result",
          "data": {
            "text/plain": [
              "tensor([[1.3937, 5.1908, 5.4934, 6.7403],\n",
              "        [3.8535, 3.1459, 3.7027, 0.8682],\n",
              "        [5.3008, 2.1007, 0.7004, 0.0508],\n",
              "        [4.2095, 1.2734, 5.8632, 3.3235]])"
            ]
          },
          "metadata": {
            "tags": []
          },
          "execution_count": 43
        }
      ]
    },
    {
      "cell_type": "markdown",
      "metadata": {
        "id": "KV3IInznkj3K"
      },
      "source": [
        "rate parameter between 0 and 7"
      ]
    },
    {
      "cell_type": "code",
      "metadata": {
        "colab": {
          "base_uri": "https://localhost:8080/"
        },
        "id": "blx6KvmOkj3L",
        "outputId": "e75d9792-69f8-49eb-e8c6-3a56c0a8378c"
      },
      "source": [
        "torch.poisson(rates)"
      ],
      "execution_count": 44,
      "outputs": [
        {
          "output_type": "execute_result",
          "data": {
            "text/plain": [
              "tensor([[4., 5., 4., 7.],\n",
              "        [2., 3., 2., 1.],\n",
              "        [1., 0., 0., 0.],\n",
              "        [8., 0., 7., 3.]])"
            ]
          },
          "metadata": {
            "tags": []
          },
          "execution_count": 44
        }
      ]
    },
    {
      "cell_type": "markdown",
      "metadata": {
        "id": "KrhS0Ftdkj3L"
      },
      "source": [
        ""
      ]
    },
    {
      "cell_type": "code",
      "metadata": {
        "colab": {
          "base_uri": "https://localhost:8080/",
          "height": 187
        },
        "id": "nNeVyyO6kj3L",
        "outputId": "d9c14619-61ed-4688-ed63-df75eb3207b9"
      },
      "source": [
        "rates = torch.rand(4, 4) * 7  \r\n",
        "torch.poisson(rates, generator=True)"
      ],
      "execution_count": 45,
      "outputs": [
        {
          "output_type": "error",
          "ename": "TypeError",
          "evalue": "ignored",
          "traceback": [
            "\u001b[0;31m---------------------------------------------------------------------------\u001b[0m",
            "\u001b[0;31mTypeError\u001b[0m                                 Traceback (most recent call last)",
            "\u001b[0;32m<ipython-input-45-80b9394e8ae1>\u001b[0m in \u001b[0;36m<module>\u001b[0;34m()\u001b[0m\n\u001b[1;32m      1\u001b[0m \u001b[0mrates\u001b[0m \u001b[0;34m=\u001b[0m \u001b[0mtorch\u001b[0m\u001b[0;34m.\u001b[0m\u001b[0mrand\u001b[0m\u001b[0;34m(\u001b[0m\u001b[0;36m4\u001b[0m\u001b[0;34m,\u001b[0m \u001b[0;36m4\u001b[0m\u001b[0;34m)\u001b[0m \u001b[0;34m*\u001b[0m \u001b[0;36m7\u001b[0m\u001b[0;34m\u001b[0m\u001b[0;34m\u001b[0m\u001b[0m\n\u001b[0;32m----> 2\u001b[0;31m \u001b[0mtorch\u001b[0m\u001b[0;34m.\u001b[0m\u001b[0mpoisson\u001b[0m\u001b[0;34m(\u001b[0m\u001b[0mrates\u001b[0m\u001b[0;34m,\u001b[0m \u001b[0mgenerator\u001b[0m\u001b[0;34m=\u001b[0m\u001b[0;32mTrue\u001b[0m\u001b[0;34m)\u001b[0m\u001b[0;34m\u001b[0m\u001b[0;34m\u001b[0m\u001b[0m\n\u001b[0m",
            "\u001b[0;31mTypeError\u001b[0m: poisson(): argument 'generator' must be torch.Generator, not bool"
          ]
        }
      ]
    },
    {
      "cell_type": "markdown",
      "metadata": {
        "id": "mGb2sy6Z8uBn"
      },
      "source": [
        "The default of parameter generator is false. We shoulde pass type of torch.Generator argument to the possion() function."
      ]
    },
    {
      "cell_type": "code",
      "metadata": {
        "colab": {
          "base_uri": "https://localhost:8080/"
        },
        "id": "oBMwsgOo9sgh",
        "outputId": "5c0be698-9608-4f11-f04e-8d017dc6519b"
      },
      "source": [
        "g_cpu = torch.Generator()\r\n",
        "torch.poisson(rates, g_cpu)"
      ],
      "execution_count": 50,
      "outputs": [
        {
          "output_type": "execute_result",
          "data": {
            "text/plain": [
              "tensor([[ 0., 10.,  0.,  4.],\n",
              "        [ 0.,  0.,  0.,  4.],\n",
              "        [ 1.,  3.,  7.,  2.],\n",
              "        [ 2.,  2.,  8.,  0.]])"
            ]
          },
          "metadata": {
            "tags": []
          },
          "execution_count": 50
        }
      ]
    },
    {
      "cell_type": "markdown",
      "metadata": {
        "id": "8_G4GL3ekj3L"
      },
      "source": [
        "We can use Poisson distribution for modeling the times of event occurs in an unit time.\r\n",
        "\r\n",
        "e.g. the interval of time that how many customer arrive to the system."
      ]
    },
    {
      "cell_type": "markdown",
      "metadata": {
        "id": "kjZ2Q5P2kj3M"
      },
      "source": [
        "## Function 4 - mul(input, other, *, out=None)\n",
        "\n",
        "Multiplies each element of the input input with the scalar other and returns a new resulting tensor."
      ]
    },
    {
      "cell_type": "code",
      "metadata": {
        "colab": {
          "base_uri": "https://localhost:8080/"
        },
        "id": "ZL_snfaXkj3M",
        "outputId": "1522f096-beb3-4a5a-d366-d858f9c8eb35"
      },
      "source": [
        "a = torch.randn(3)\r\n",
        "a"
      ],
      "execution_count": 5,
      "outputs": [
        {
          "output_type": "execute_result",
          "data": {
            "text/plain": [
              "tensor([-1.0583, -1.9421,  2.1392])"
            ]
          },
          "metadata": {
            "tags": []
          },
          "execution_count": 5
        }
      ]
    },
    {
      "cell_type": "code",
      "metadata": {
        "colab": {
          "base_uri": "https://localhost:8080/"
        },
        "id": "jfUcn4O7kj3N",
        "outputId": "6ffa54a4-fbb3-41e8-d703-255b86bf7c15"
      },
      "source": [
        "torch.mul(a, 100)"
      ],
      "execution_count": 4,
      "outputs": [
        {
          "output_type": "execute_result",
          "data": {
            "text/plain": [
              "tensor([-36.2101,  -7.3372, 102.0033])"
            ]
          },
          "metadata": {
            "tags": []
          },
          "execution_count": 4
        }
      ]
    },
    {
      "cell_type": "markdown",
      "metadata": {
        "id": "WiO8MpNtkj3N"
      },
      "source": [
        "Each element of the tensor input is multiplied by the corresponding element of the Tensor other. The resulting tensor is returned.\r\n",
        "\r\n",
        "The shapes of input and other must be broadcastable.\r\n",
        "\r\n",
        "\r\n",
        "Two tensors are “broadcastable” if the following rules hold:\r\n",
        "\r\n",
        "*  Each tensor has at least one dimension.\r\n",
        "*  When iterating over the dimension sizes, starting at the trailing dimension, the dimension sizes must either be equal, one of them is 1, or one of them does not exist.\r\n",
        "\r\n",
        "\r\n",
        "\r\n",
        "\r\n"
      ]
    },
    {
      "cell_type": "code",
      "metadata": {
        "colab": {
          "base_uri": "https://localhost:8080/"
        },
        "id": "OP4AeQI7kj3N",
        "outputId": "e8f2bfc0-639a-4232-ed05-c7578f505be5"
      },
      "source": [
        "a = torch.randn(4, 1)\r\n",
        "print(a)\r\n",
        "b = torch.randn(1, 4)\r\n",
        "print(b)"
      ],
      "execution_count": 7,
      "outputs": [
        {
          "output_type": "stream",
          "text": [
            "tensor([[ 0.2842],\n",
            "        [ 1.3236],\n",
            "        [-1.7131],\n",
            "        [ 0.2324]])\n",
            "tensor([[-0.9203,  2.5977, -0.6928,  0.3643]])\n"
          ],
          "name": "stdout"
        }
      ]
    },
    {
      "cell_type": "code",
      "metadata": {
        "colab": {
          "base_uri": "https://localhost:8080/"
        },
        "id": "C1xMLhYCnn-X",
        "outputId": "c6ea36fb-eb24-455b-ad10-2f2663852cc8"
      },
      "source": [
        "torch.mul(a, b)"
      ],
      "execution_count": 8,
      "outputs": [
        {
          "output_type": "execute_result",
          "data": {
            "text/plain": [
              "tensor([[-0.2615,  0.7382, -0.1969,  0.1035],\n",
              "        [-1.2181,  3.4382, -0.9170,  0.4822],\n",
              "        [ 1.5766, -4.4501,  1.1869, -0.6241],\n",
              "        [-0.2139,  0.6036, -0.1610,  0.0847]])"
            ]
          },
          "metadata": {
            "tags": []
          },
          "execution_count": 8
        }
      ]
    },
    {
      "cell_type": "code",
      "metadata": {
        "colab": {
          "base_uri": "https://localhost:8080/"
        },
        "id": "bKWFaWvZoDzj",
        "outputId": "98b12f98-903b-46c8-fd6b-a4641025e377"
      },
      "source": [
        "c = torch.randn(2, 5)\r\n",
        "c"
      ],
      "execution_count": 11,
      "outputs": [
        {
          "output_type": "execute_result",
          "data": {
            "text/plain": [
              "tensor([[ 0.1515, -0.5707, -0.4039,  1.1750, -0.5356],\n",
              "        [ 0.3113,  1.3546,  0.1664,  2.6099,  0.8421]])"
            ]
          },
          "metadata": {
            "tags": []
          },
          "execution_count": 11
        }
      ]
    },
    {
      "cell_type": "code",
      "metadata": {
        "colab": {
          "base_uri": "https://localhost:8080/",
          "height": 187
        },
        "id": "CvtzPco7oJtn",
        "outputId": "58110165-b4d9-46f6-ee38-0a88de205328"
      },
      "source": [
        "torch.mul(a, c)"
      ],
      "execution_count": 12,
      "outputs": [
        {
          "output_type": "error",
          "ename": "RuntimeError",
          "evalue": "ignored",
          "traceback": [
            "\u001b[0;31m---------------------------------------------------------------------------\u001b[0m",
            "\u001b[0;31mRuntimeError\u001b[0m                              Traceback (most recent call last)",
            "\u001b[0;32m<ipython-input-12-03f97936bda5>\u001b[0m in \u001b[0;36m<module>\u001b[0;34m()\u001b[0m\n\u001b[0;32m----> 1\u001b[0;31m \u001b[0mtorch\u001b[0m\u001b[0;34m.\u001b[0m\u001b[0mmul\u001b[0m\u001b[0;34m(\u001b[0m\u001b[0ma\u001b[0m\u001b[0;34m,\u001b[0m \u001b[0mc\u001b[0m\u001b[0;34m)\u001b[0m\u001b[0;34m\u001b[0m\u001b[0;34m\u001b[0m\u001b[0m\n\u001b[0m",
            "\u001b[0;31mRuntimeError\u001b[0m: The size of tensor a (4) must match the size of tensor b (2) at non-singleton dimension 0"
          ]
        }
      ]
    },
    {
      "cell_type": "markdown",
      "metadata": {
        "id": "BuVV0tGgkj3N"
      },
      "source": [
        "The size of tensor a (4) must match the size of tensor b (2) at non-singleton dimension 0\r\n",
        "\r\n",
        "Since this multiplication doesn't follow the rule of broadcasting, we can't use mul() to tensor a and c."
      ]
    },
    {
      "cell_type": "markdown",
      "metadata": {
        "id": "IemPY7ptkj3O"
      },
      "source": [
        "## Function 5 - inverse(input, *, out=None) \n",
        "\n",
        "Takes the inverse of the square matrix input. input can be batches of 2D square tensors, in which case this function would return a tensor composed of individual inverses."
      ]
    },
    {
      "cell_type": "code",
      "metadata": {
        "colab": {
          "base_uri": "https://localhost:8080/"
        },
        "id": "Ce6rKvUZkj3O",
        "outputId": "b9100079-0734-4289-fe6f-1bcd5de8e3dd"
      },
      "source": [
        "x = torch.rand(4, 4)\r\n",
        "x"
      ],
      "execution_count": 27,
      "outputs": [
        {
          "output_type": "execute_result",
          "data": {
            "text/plain": [
              "tensor([[0.6608, 0.0792, 0.1032, 0.1746],\n",
              "        [0.1351, 0.4932, 0.2039, 0.4134],\n",
              "        [0.6811, 0.2472, 0.0158, 0.9620],\n",
              "        [0.4757, 0.0524, 0.9137, 0.4896]])"
            ]
          },
          "metadata": {
            "tags": []
          },
          "execution_count": 27
        }
      ]
    },
    {
      "cell_type": "code",
      "metadata": {
        "colab": {
          "base_uri": "https://localhost:8080/"
        },
        "id": "aqmmCV43sK2l",
        "outputId": "0a4d775e-28bb-4466-cc5a-57d928e72a3d"
      },
      "source": [
        "y = torch.inverse(x)\r\n",
        "y"
      ],
      "execution_count": 28,
      "outputs": [
        {
          "output_type": "execute_result",
          "data": {
            "text/plain": [
              "tensor([[ 1.8436, -0.1944, -0.1687, -0.1620],\n",
              "        [ 0.8494,  2.3920, -0.8692, -0.6146],\n",
              "        [-0.1939,  0.2216, -0.6083,  1.0774],\n",
              "        [-1.5204, -0.4808,  1.3923,  0.2549]])"
            ]
          },
          "metadata": {
            "tags": []
          },
          "execution_count": 28
        }
      ]
    },
    {
      "cell_type": "code",
      "metadata": {
        "colab": {
          "base_uri": "https://localhost:8080/"
        },
        "id": "fZSiwLTpkj3O",
        "outputId": "db110589-ffda-4b36-90bc-dccf9e2e1cf1"
      },
      "source": [
        "z = torch.mm(x, y)\r\n",
        "z"
      ],
      "execution_count": 29,
      "outputs": [
        {
          "output_type": "execute_result",
          "data": {
            "text/plain": [
              "tensor([[ 1.0000e+00,  0.0000e+00, -7.4506e-08, -1.4435e-08],\n",
              "        [-1.4901e-08,  1.0000e+00,  5.9605e-08,  2.9802e-08],\n",
              "        [ 1.1921e-07, -7.4506e-08,  1.0000e+00, -1.4901e-08],\n",
              "        [ 0.0000e+00, -2.2352e-08,  0.0000e+00,  1.0000e+00]])"
            ]
          },
          "metadata": {
            "tags": []
          },
          "execution_count": 29
        }
      ]
    },
    {
      "cell_type": "markdown",
      "metadata": {
        "id": "KrV1qa6yuBxK"
      },
      "source": [
        "The reason that except diagonal, other elements in array are not all zero is because the  small error in computer numericial system. "
      ]
    },
    {
      "cell_type": "code",
      "metadata": {
        "colab": {
          "base_uri": "https://localhost:8080/"
        },
        "id": "XJV8ZYA7kj3P",
        "outputId": "5c198009-ce3d-4ccc-db3c-fcacff665848"
      },
      "source": [
        "x = torch.arange(9).reshape(3,3)\r\n",
        "x"
      ],
      "execution_count": 30,
      "outputs": [
        {
          "output_type": "execute_result",
          "data": {
            "text/plain": [
              "tensor([[0, 1, 2],\n",
              "        [3, 4, 5],\n",
              "        [6, 7, 8]])"
            ]
          },
          "metadata": {
            "tags": []
          },
          "execution_count": 30
        }
      ]
    },
    {
      "cell_type": "code",
      "metadata": {
        "colab": {
          "base_uri": "https://localhost:8080/",
          "height": 169
        },
        "id": "VJGS2YNWurPX",
        "outputId": "520bbc2a-bde9-4e10-b2b0-05125628d96d"
      },
      "source": [
        "torch.inverse(x)"
      ],
      "execution_count": 31,
      "outputs": [
        {
          "output_type": "error",
          "ename": "RuntimeError",
          "evalue": "ignored",
          "traceback": [
            "\u001b[0;31m---------------------------------------------------------------------------\u001b[0m",
            "\u001b[0;31mRuntimeError\u001b[0m                              Traceback (most recent call last)",
            "\u001b[0;32m<ipython-input-31-0f4dfe10a343>\u001b[0m in \u001b[0;36m<module>\u001b[0;34m()\u001b[0m\n\u001b[0;32m----> 1\u001b[0;31m \u001b[0mtorch\u001b[0m\u001b[0;34m.\u001b[0m\u001b[0minverse\u001b[0m\u001b[0;34m(\u001b[0m\u001b[0mx\u001b[0m\u001b[0;34m)\u001b[0m\u001b[0;34m\u001b[0m\u001b[0;34m\u001b[0m\u001b[0m\n\u001b[0m",
            "\u001b[0;31mRuntimeError\u001b[0m: \"inverse_cpu\" not implemented for 'Long'"
          ]
        }
      ]
    },
    {
      "cell_type": "markdown",
      "metadata": {
        "id": "9N7zYwr_kj3Q"
      },
      "source": [
        "The computation of inverse matrix fails if the matrix is ​​singular. We can add (-1) * row1 and 2 * row2 to the row3."
      ]
    },
    {
      "cell_type": "markdown",
      "metadata": {
        "id": "-4KAmuzIkj3Q"
      },
      "source": [
        "This function is useful when we are dealing with linear algebra problems."
      ]
    },
    {
      "cell_type": "markdown",
      "metadata": {
        "id": "F7AgHKJ8kj3R"
      },
      "source": [
        "## Conclusion\n",
        "\n",
        "In this notebook, we have discussed pytorch operation about transpose tensor, some statistic and linear algebra question."
      ]
    },
    {
      "cell_type": "markdown",
      "metadata": {
        "id": "1TMLvDo3kj3R"
      },
      "source": [
        "## Reference Links\n",
        "\n",
        "* Official documentation for tensor operations: https://pytorch.org/docs/stable/torch.html\n",
        "* https://towardsdatascience.com/5-statistical-functions-in-pytorch-2d75e3dcc1fd\n"
      ]
    },
    {
      "cell_type": "code",
      "metadata": {
        "id": "rBcZcNFd2vIu"
      },
      "source": [
        ""
      ],
      "execution_count": null,
      "outputs": []
    }
  ],
  "metadata": {
    "kernelspec": {
      "display_name": "Python 3",
      "language": "python",
      "name": "python3"
    },
    "language_info": {
      "codemirror_mode": {
        "name": "ipython",
        "version": 3
      },
      "file_extension": ".py",
      "mimetype": "text/x-python",
      "name": "python",
      "nbconvert_exporter": "python",
      "pygments_lexer": "ipython3",
      "version": "3.8.5"
    },
    "colab": {
      "name": "01-tensor-operations.ipynb",
      "provenance": []
    }
  },
  "nbformat": 4,
  "nbformat_minor": 0
}